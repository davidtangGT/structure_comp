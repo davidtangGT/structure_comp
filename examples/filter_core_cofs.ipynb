{
 "cells": [
  {
   "cell_type": "markdown",
   "metadata": {},
   "source": [
    "# Filtering databases"
   ]
  },
  {
   "cell_type": "markdown",
   "metadata": {},
   "source": [
    "last tested on 30.03.2019 \n",
    "- with files from https://github.com/core-cof/CoRE-COF-Database/tree/master \n",
    "\n",
    "on a Thinkpad Yoga X1 ."
   ]
  },
  {
   "cell_type": "code",
   "execution_count": 1,
   "metadata": {},
   "outputs": [],
   "source": [
    "%config Application.log_level=\"DEBUG\""
   ]
  },
  {
   "cell_type": "code",
   "execution_count": 2,
   "metadata": {},
   "outputs": [
    {
     "name": "stderr",
     "output_type": "stream",
     "text": [
      "/home/kevin/anaconda3/lib/python3.6/site-packages/tqdm/autonotebook/__init__.py:14: TqdmExperimentalWarning: Using `tqdm.autonotebook.tqdm` in notebook mode. Use `tqdm.tqdm` instead to force console mode (e.g. in jupyter console)\n",
      "  \" (e.g. in jupyter console)\", TqdmExperimentalWarning)\n"
     ]
    }
   ],
   "source": [
    "from structure_comp.remove_duplicates import RemoveDuplicates"
   ]
  },
  {
   "cell_type": "markdown",
   "metadata": {},
   "source": [
    "Initialize the object"
   ]
  },
  {
   "cell_type": "code",
   "execution_count": 3,
   "metadata": {},
   "outputs": [],
   "source": [
    "rd = RemoveDuplicates.from_folder(\n",
    "    '/home/kevin/Documents/uni/EPFL/master_thesis/CoRE-COF-Database/CoRE-COF-DT187-v1.0/')"
   ]
  },
  {
   "cell_type": "code",
   "execution_count": 4,
   "metadata": {},
   "outputs": [
    {
     "data": {
      "text/plain": [
       "RemoveDuplicates on 187 structures"
      ]
     },
     "execution_count": 4,
     "metadata": {},
     "output_type": "execute_result"
    }
   ],
   "source": [
    "rd"
   ]
  },
  {
   "cell_type": "markdown",
   "metadata": {},
   "source": [
    "It should show no duplicates prior to filtering"
   ]
  },
  {
   "cell_type": "code",
   "execution_count": 5,
   "metadata": {},
   "outputs": [
    {
     "data": {
      "text/plain": [
       "0"
      ]
     },
     "execution_count": 5,
     "metadata": {},
     "output_type": "execute_result"
    }
   ],
   "source": [
    "rd.number_of_duplicates"
   ]
  },
  {
   "cell_type": "code",
   "execution_count": 6,
   "metadata": {},
   "outputs": [
    {
     "data": {
      "text/plain": [
       "0"
      ]
     },
     "execution_count": 6,
     "metadata": {},
     "output_type": "execute_result"
    }
   ],
   "source": [
    "len(rd)"
   ]
  },
  {
   "cell_type": "code",
   "execution_count": 7,
   "metadata": {},
   "outputs": [
    {
     "data": {
      "text/plain": [
       "['/home/kevin/Documents/uni/EPFL/master_thesis/CoRE-COF-Database/CoRE-COF-DT187-v1.0/COF-42-gra.cif',\n",
       " '/home/kevin/Documents/uni/EPFL/master_thesis/CoRE-COF-Database/CoRE-COF-DT187-v1.0/COF-43-bnn.cif',\n",
       " '/home/kevin/Documents/uni/EPFL/master_thesis/CoRE-COF-Database/CoRE-COF-DT187-v1.0/HCC-H2P-COF.cif',\n",
       " '/home/kevin/Documents/uni/EPFL/master_thesis/CoRE-COF-Database/CoRE-COF-DT187-v1.0/CuP-SQ_COF.cif',\n",
       " '/home/kevin/Documents/uni/EPFL/master_thesis/CoRE-COF-Database/CoRE-COF-DT187-v1.0/H2P-COF.cif',\n",
       " '/home/kevin/Documents/uni/EPFL/master_thesis/CoRE-COF-Database/CoRE-COF-DT187-v1.0/BLP-2H-AA.cif',\n",
       " '/home/kevin/Documents/uni/EPFL/master_thesis/CoRE-COF-Database/CoRE-COF-DT187-v1.0/BF-COF-2.cif',\n",
       " '/home/kevin/Documents/uni/EPFL/master_thesis/CoRE-COF-Database/CoRE-COF-DT187-v1.0/HBC-COF-real.cif',\n",
       " '/home/kevin/Documents/uni/EPFL/master_thesis/CoRE-COF-Database/CoRE-COF-DT187-v1.0/TPBD-ME2.cif',\n",
       " '/home/kevin/Documents/uni/EPFL/master_thesis/CoRE-COF-Database/CoRE-COF-DT187-v1.0/3D-Py-COF-2P.cif',\n",
       " '/home/kevin/Documents/uni/EPFL/master_thesis/CoRE-COF-Database/CoRE-COF-DT187-v1.0/T-COF_3.cif',\n",
       " '/home/kevin/Documents/uni/EPFL/master_thesis/CoRE-COF-Database/CoRE-COF-DT187-v1.0/NTU-COF-2.cif',\n",
       " '/home/kevin/Documents/uni/EPFL/master_thesis/CoRE-COF-Database/CoRE-COF-DT187-v1.0/DAAQ-TFP_COF.cif',\n",
       " '/home/kevin/Documents/uni/EPFL/master_thesis/CoRE-COF-Database/CoRE-COF-DT187-v1.0/HP-COF-1.cif',\n",
       " '/home/kevin/Documents/uni/EPFL/master_thesis/CoRE-COF-Database/CoRE-COF-DT187-v1.0/TAPB-TFPB.cif',\n",
       " '/home/kevin/Documents/uni/EPFL/master_thesis/CoRE-COF-Database/CoRE-COF-DT187-v1.0/BDT-COF-DFT.cif',\n",
       " '/home/kevin/Documents/uni/EPFL/master_thesis/CoRE-COF-Database/CoRE-COF-DT187-v1.0/CS-COF.cif',\n",
       " '/home/kevin/Documents/uni/EPFL/master_thesis/CoRE-COF-Database/CoRE-COF-DT187-v1.0/DmaTph-23.cif',\n",
       " '/home/kevin/Documents/uni/EPFL/master_thesis/CoRE-COF-Database/CoRE-COF-DT187-v1.0/TTF-Py-COF.cif',\n",
       " '/home/kevin/Documents/uni/EPFL/master_thesis/CoRE-COF-Database/CoRE-COF-DT187-v1.0/TTF-COF.cif',\n",
       " '/home/kevin/Documents/uni/EPFL/master_thesis/CoRE-COF-Database/CoRE-COF-DT187-v1.0/Ph-An-COF.cif',\n",
       " '/home/kevin/Documents/uni/EPFL/master_thesis/CoRE-COF-Database/CoRE-COF-DT187-v1.0/TBPB_COF.cif',\n",
       " '/home/kevin/Documents/uni/EPFL/master_thesis/CoRE-COF-Database/CoRE-COF-DT187-v1.0/NUS-14.cif',\n",
       " '/home/kevin/Documents/uni/EPFL/master_thesis/CoRE-COF-Database/CoRE-COF-DT187-v1.0/COF-11A.cif',\n",
       " '/home/kevin/Documents/uni/EPFL/master_thesis/CoRE-COF-Database/CoRE-COF-DT187-v1.0/PCTF-3.cif',\n",
       " '/home/kevin/Documents/uni/EPFL/master_thesis/CoRE-COF-Database/CoRE-COF-DT187-v1.0/CuP-Ph_COF.cif',\n",
       " '/home/kevin/Documents/uni/EPFL/master_thesis/CoRE-COF-Database/CoRE-COF-DT187-v1.0/DhaTab-23.cif',\n",
       " '/home/kevin/Documents/uni/EPFL/master_thesis/CoRE-COF-Database/CoRE-COF-DT187-v1.0/TpPa-1-2F.cif',\n",
       " '/home/kevin/Documents/uni/EPFL/master_thesis/CoRE-COF-Database/CoRE-COF-DT187-v1.0/Tp-Por-COF-AA.cif',\n",
       " '/home/kevin/Documents/uni/EPFL/master_thesis/CoRE-COF-Database/CoRE-COF-DT187-v1.0/TD-COF-5.cif',\n",
       " '/home/kevin/Documents/uni/EPFL/master_thesis/CoRE-COF-Database/CoRE-COF-DT187-v1.0/Py-An_COF.cif',\n",
       " '/home/kevin/Documents/uni/EPFL/master_thesis/CoRE-COF-Database/CoRE-COF-DT187-v1.0/AEM-COF-1.cif',\n",
       " '/home/kevin/Documents/uni/EPFL/master_thesis/CoRE-COF-Database/CoRE-COF-DT187-v1.0/DTP-ANDI-COF.cif',\n",
       " '/home/kevin/Documents/uni/EPFL/master_thesis/CoRE-COF-Database/CoRE-COF-DT187-v1.0/TpPa-SO3H-Py.cif',\n",
       " '/home/kevin/Documents/uni/EPFL/master_thesis/CoRE-COF-Database/CoRE-COF-DT187-v1.0/COF-102.cif',\n",
       " '/home/kevin/Documents/uni/EPFL/master_thesis/CoRE-COF-Database/CoRE-COF-DT187-v1.0/NUS-3.cif',\n",
       " '/home/kevin/Documents/uni/EPFL/master_thesis/CoRE-COF-Database/CoRE-COF-DT187-v1.0/TpTG-I.cif',\n",
       " '/home/kevin/Documents/uni/EPFL/master_thesis/CoRE-COF-Database/CoRE-COF-DT187-v1.0/EB-COF-F.cif',\n",
       " '/home/kevin/Documents/uni/EPFL/master_thesis/CoRE-COF-Database/CoRE-COF-DT187-v1.0/COF-505.cif',\n",
       " '/home/kevin/Documents/uni/EPFL/master_thesis/CoRE-COF-Database/CoRE-COF-DT187-v1.0/TpBDH.cif',\n",
       " '/home/kevin/Documents/uni/EPFL/master_thesis/CoRE-COF-Database/CoRE-COF-DT187-v1.0/4PE-3P.cif',\n",
       " '/home/kevin/Documents/uni/EPFL/master_thesis/CoRE-COF-Database/CoRE-COF-DT187-v1.0/Tp-Azo.cif',\n",
       " '/home/kevin/Documents/uni/EPFL/master_thesis/CoRE-COF-Database/CoRE-COF-DT187-v1.0/COF-SDU1.cif',\n",
       " '/home/kevin/Documents/uni/EPFL/master_thesis/CoRE-COF-Database/CoRE-COF-DT187-v1.0/COF-1.cif',\n",
       " '/home/kevin/Documents/uni/EPFL/master_thesis/CoRE-COF-Database/CoRE-COF-DT187-v1.0/ICOF-2.cif',\n",
       " '/home/kevin/Documents/uni/EPFL/master_thesis/CoRE-COF-Database/CoRE-COF-DT187-v1.0/TpBD-OMe2-FF.cif',\n",
       " '/home/kevin/Documents/uni/EPFL/master_thesis/CoRE-COF-Database/CoRE-COF-DT187-v1.0/NPN-1.cif',\n",
       " '/home/kevin/Documents/uni/EPFL/master_thesis/CoRE-COF-Database/CoRE-COF-DT187-v1.0/CTC-COF.cif',\n",
       " '/home/kevin/Documents/uni/EPFL/master_thesis/CoRE-COF-Database/CoRE-COF-DT187-v1.0/NTU-COF-1.cif',\n",
       " '/home/kevin/Documents/uni/EPFL/master_thesis/CoRE-COF-Database/CoRE-COF-DT187-v1.0/Pa-Py.cif',\n",
       " '/home/kevin/Documents/uni/EPFL/master_thesis/CoRE-COF-Database/CoRE-COF-DT187-v1.0/HP-COF-2.cif',\n",
       " '/home/kevin/Documents/uni/EPFL/master_thesis/CoRE-COF-Database/CoRE-COF-DT187-v1.0/Ph-AnCD-COF.cif',\n",
       " '/home/kevin/Documents/uni/EPFL/master_thesis/CoRE-COF-Database/CoRE-COF-DT187-v1.0/COF-TpAzo.cif',\n",
       " '/home/kevin/Documents/uni/EPFL/master_thesis/CoRE-COF-Database/CoRE-COF-DT187-v1.0/TpPA-2.cif',\n",
       " '/home/kevin/Documents/uni/EPFL/master_thesis/CoRE-COF-Database/CoRE-COF-DT187-v1.0/CTF-0.cif',\n",
       " '/home/kevin/Documents/uni/EPFL/master_thesis/CoRE-COF-Database/CoRE-COF-DT187-v1.0/COF-66.cif',\n",
       " '/home/kevin/Documents/uni/EPFL/master_thesis/CoRE-COF-Database/CoRE-COF-DT187-v1.0/CTF-NDC.cif',\n",
       " '/home/kevin/Documents/uni/EPFL/master_thesis/CoRE-COF-Database/CoRE-COF-DT187-v1.0/MPCOF.cif',\n",
       " '/home/kevin/Documents/uni/EPFL/master_thesis/CoRE-COF-Database/CoRE-COF-DT187-v1.0/EB-COF-Cl.cif',\n",
       " '/home/kevin/Documents/uni/EPFL/master_thesis/CoRE-COF-Database/CoRE-COF-DT187-v1.0/COF-AA-H.cif',\n",
       " '/home/kevin/Documents/uni/EPFL/master_thesis/CoRE-COF-Database/CoRE-COF-DT187-v1.0/PI-COF-4-2P.cif',\n",
       " '/home/kevin/Documents/uni/EPFL/master_thesis/CoRE-COF-Database/CoRE-COF-DT187-v1.0/POR-COF.cif',\n",
       " '/home/kevin/Documents/uni/EPFL/master_thesis/CoRE-COF-Database/CoRE-COF-DT187-v1.0/ZnPc-PPE.cif',\n",
       " '/home/kevin/Documents/uni/EPFL/master_thesis/CoRE-COF-Database/CoRE-COF-DT187-v1.0/EB-COF-Br.cif',\n",
       " '/home/kevin/Documents/uni/EPFL/master_thesis/CoRE-COF-Database/CoRE-COF-DT187-v1.0/NUS-10.cif',\n",
       " '/home/kevin/Documents/uni/EPFL/master_thesis/CoRE-COF-Database/CoRE-COF-DT187-v1.0/ILCOF-1-AB.cif',\n",
       " '/home/kevin/Documents/uni/EPFL/master_thesis/CoRE-COF-Database/CoRE-COF-DT187-v1.0/COF-320.cif',\n",
       " '/home/kevin/Documents/uni/EPFL/master_thesis/CoRE-COF-Database/CoRE-COF-DT187-v1.0/TAPB-TFP.cif',\n",
       " '/home/kevin/Documents/uni/EPFL/master_thesis/CoRE-COF-Database/CoRE-COF-DT187-v1.0/Pc-PBBA-COF.cif',\n",
       " '/home/kevin/Documents/uni/EPFL/master_thesis/CoRE-COF-Database/CoRE-COF-DT187-v1.0/ZnPc-COF.cif',\n",
       " '/home/kevin/Documents/uni/EPFL/master_thesis/CoRE-COF-Database/CoRE-COF-DT187-v1.0/PCTF-1.cif',\n",
       " '/home/kevin/Documents/uni/EPFL/master_thesis/CoRE-COF-Database/CoRE-COF-DT187-v1.0/N3-COF.cif',\n",
       " '/home/kevin/Documents/uni/EPFL/master_thesis/CoRE-COF-Database/CoRE-COF-DT187-v1.0/BDT-OEt_COF.cif',\n",
       " '/home/kevin/Documents/uni/EPFL/master_thesis/CoRE-COF-Database/CoRE-COF-DT187-v1.0/PI-2-COF.cif',\n",
       " '/home/kevin/Documents/uni/EPFL/master_thesis/CoRE-COF-Database/CoRE-COF-DT187-v1.0/T-COF_2.cif',\n",
       " '/home/kevin/Documents/uni/EPFL/master_thesis/CoRE-COF-Database/CoRE-COF-DT187-v1.0/CTF-FUM.cif',\n",
       " '/home/kevin/Documents/uni/EPFL/master_thesis/CoRE-COF-Database/CoRE-COF-DT187-v1.0/HO2C-H2P-COFs.cif',\n",
       " '/home/kevin/Documents/uni/EPFL/master_thesis/CoRE-COF-Database/CoRE-COF-DT187-v1.0/Py-DHPh_COF.cif',\n",
       " '/home/kevin/Documents/uni/EPFL/master_thesis/CoRE-COF-Database/CoRE-COF-DT187-v1.0/CPF-2.cif',\n",
       " '/home/kevin/Documents/uni/EPFL/master_thesis/CoRE-COF-Database/CoRE-COF-DT187-v1.0/COF-108.cif',\n",
       " '/home/kevin/Documents/uni/EPFL/master_thesis/CoRE-COF-Database/CoRE-COF-DT187-v1.0/OH-H2P-COF.cif',\n",
       " '/home/kevin/Documents/uni/EPFL/master_thesis/CoRE-COF-Database/CoRE-COF-DT187-v1.0/ILCOF-1-AA.cif',\n",
       " '/home/kevin/Documents/uni/EPFL/master_thesis/CoRE-COF-Database/CoRE-COF-DT187-v1.0/COF-300.cif',\n",
       " '/home/kevin/Documents/uni/EPFL/master_thesis/CoRE-COF-Database/CoRE-COF-DT187-v1.0/TTI-COF.cif',\n",
       " '/home/kevin/Documents/uni/EPFL/master_thesis/CoRE-COF-Database/CoRE-COF-DT187-v1.0/Py-23-BPYPH_COF.cif',\n",
       " '/home/kevin/Documents/uni/EPFL/master_thesis/CoRE-COF-Database/CoRE-COF-DT187-v1.0/DBA-COF_2.cif',\n",
       " '/home/kevin/Documents/uni/EPFL/master_thesis/CoRE-COF-Database/CoRE-COF-DT187-v1.0/NUS-9.cif',\n",
       " '/home/kevin/Documents/uni/EPFL/master_thesis/CoRE-COF-Database/CoRE-COF-DT187-v1.0/AEM-COF-2.cif',\n",
       " '/home/kevin/Documents/uni/EPFL/master_thesis/CoRE-COF-Database/CoRE-COF-DT187-v1.0/OH-TAPH-COF.cif',\n",
       " '/home/kevin/Documents/uni/EPFL/master_thesis/CoRE-COF-Database/CoRE-COF-DT187-v1.0/TpPa-1.cif',\n",
       " '/home/kevin/Documents/uni/EPFL/master_thesis/CoRE-COF-Database/CoRE-COF-DT187-v1.0/PC-COF.cif',\n",
       " '/home/kevin/Documents/uni/EPFL/master_thesis/CoRE-COF-Database/CoRE-COF-DT187-v1.0/COF-103.cif',\n",
       " '/home/kevin/Documents/uni/EPFL/master_thesis/CoRE-COF-Database/CoRE-COF-DT187-v1.0/HAT-COF.cif',\n",
       " '/home/kevin/Documents/uni/EPFL/master_thesis/CoRE-COF-Database/CoRE-COF-DT187-v1.0/COF-18A.cif',\n",
       " '/home/kevin/Documents/uni/EPFL/master_thesis/CoRE-COF-Database/CoRE-COF-DT187-v1.0/HPB-COF.cif',\n",
       " '/home/kevin/Documents/uni/EPFL/master_thesis/CoRE-COF-Database/CoRE-COF-DT187-v1.0/TpBD-NH2.cif',\n",
       " '/home/kevin/Documents/uni/EPFL/master_thesis/CoRE-COF-Database/CoRE-COF-DT187-v1.0/TPT-COF-2.cif',\n",
       " '/home/kevin/Documents/uni/EPFL/master_thesis/CoRE-COF-Database/CoRE-COF-DT187-v1.0/COF-43-gra.cif',\n",
       " '/home/kevin/Documents/uni/EPFL/master_thesis/CoRE-COF-Database/CoRE-COF-DT187-v1.0/4PE-TT.cif',\n",
       " '/home/kevin/Documents/uni/EPFL/master_thesis/CoRE-COF-Database/CoRE-COF-DT187-v1.0/Star-COF-2.cif',\n",
       " '/home/kevin/Documents/uni/EPFL/master_thesis/CoRE-COF-Database/CoRE-COF-DT187-v1.0/4PE-1P.cif',\n",
       " '/home/kevin/Documents/uni/EPFL/master_thesis/CoRE-COF-Database/CoRE-COF-DT187-v1.0/BF-COF-1.cif',\n",
       " '/home/kevin/Documents/uni/EPFL/master_thesis/CoRE-COF-Database/CoRE-COF-DT187-v1.0/Py-COF.cif',\n",
       " '/home/kevin/Documents/uni/EPFL/master_thesis/CoRE-COF-Database/CoRE-COF-DT187-v1.0/TH-COF-1.cif',\n",
       " '/home/kevin/Documents/uni/EPFL/master_thesis/CoRE-COF-Database/CoRE-COF-DT187-v1.0/BLP-2H-AB.cif',\n",
       " '/home/kevin/Documents/uni/EPFL/master_thesis/CoRE-COF-Database/CoRE-COF-DT187-v1.0/TpPA-NO2.cif',\n",
       " '/home/kevin/Documents/uni/EPFL/master_thesis/CoRE-COF-Database/CoRE-COF-DT187-v1.0/CTF-2-AA.cif',\n",
       " '/home/kevin/Documents/uni/EPFL/master_thesis/CoRE-COF-Database/CoRE-COF-DT187-v1.0/AB-COF.cif',\n",
       " '/home/kevin/Documents/uni/EPFL/master_thesis/CoRE-COF-Database/CoRE-COF-DT187-v1.0/TpTG-Br.cif',\n",
       " '/home/kevin/Documents/uni/EPFL/master_thesis/CoRE-COF-Database/CoRE-COF-DT187-v1.0/Py-Azine_COF.cif',\n",
       " '/home/kevin/Documents/uni/EPFL/master_thesis/CoRE-COF-Database/CoRE-COF-DT187-v1.0/CTF-2-AB.cif',\n",
       " '/home/kevin/Documents/uni/EPFL/master_thesis/CoRE-COF-Database/CoRE-COF-DT187-v1.0/Star-COF-3.cif',\n",
       " '/home/kevin/Documents/uni/EPFL/master_thesis/CoRE-COF-Database/CoRE-COF-DT187-v1.0/TpBD-NO2.cif',\n",
       " '/home/kevin/Documents/uni/EPFL/master_thesis/CoRE-COF-Database/CoRE-COF-DT187-v1.0/Tp-Por-COF-AB.cif',\n",
       " '/home/kevin/Documents/uni/EPFL/master_thesis/CoRE-COF-Database/CoRE-COF-DT187-v1.0/4PE-2P.cif',\n",
       " '/home/kevin/Documents/uni/EPFL/master_thesis/CoRE-COF-Database/CoRE-COF-DT187-v1.0/COF-202.cif',\n",
       " '/home/kevin/Documents/uni/EPFL/master_thesis/CoRE-COF-Database/CoRE-COF-DT187-v1.0/TRIPTA.cif',\n",
       " '/home/kevin/Documents/uni/EPFL/master_thesis/CoRE-COF-Database/CoRE-COF-DT187-v1.0/DhaTph-25.cif',\n",
       " '/home/kevin/Documents/uni/EPFL/master_thesis/CoRE-COF-Database/CoRE-COF-DT187-v1.0/Py-23-DHPh_COF.cif',\n",
       " '/home/kevin/Documents/uni/EPFL/master_thesis/CoRE-COF-Database/CoRE-COF-DT187-v1.0/NUS-2.cif',\n",
       " '/home/kevin/Documents/uni/EPFL/master_thesis/CoRE-COF-Database/CoRE-COF-DT187-v1.0/TT-COF-FF.cif',\n",
       " '/home/kevin/Documents/uni/EPFL/master_thesis/CoRE-COF-Database/CoRE-COF-DT187-v1.0/NN-TAPH-COF.cif',\n",
       " '/home/kevin/Documents/uni/EPFL/master_thesis/CoRE-COF-Database/CoRE-COF-DT187-v1.0/ZnPc-NDI.cif',\n",
       " '/home/kevin/Documents/uni/EPFL/master_thesis/CoRE-COF-Database/CoRE-COF-DT187-v1.0/COF-366.cif',\n",
       " '/home/kevin/Documents/uni/EPFL/master_thesis/CoRE-COF-Database/CoRE-COF-DT187-v1.0/T-COF_1.cif',\n",
       " '/home/kevin/Documents/uni/EPFL/master_thesis/CoRE-COF-Database/CoRE-COF-DT187-v1.0/PCTF-2.cif',\n",
       " '/home/kevin/Documents/uni/EPFL/master_thesis/CoRE-COF-Database/CoRE-COF-DT187-v1.0/Star-COF-1.cif',\n",
       " '/home/kevin/Documents/uni/EPFL/master_thesis/CoRE-COF-Database/CoRE-COF-DT187-v1.0/NPN-3.cif',\n",
       " '/home/kevin/Documents/uni/EPFL/master_thesis/CoRE-COF-Database/CoRE-COF-DT187-v1.0/iPrTAPB-TFPB.cif',\n",
       " '/home/kevin/Documents/uni/EPFL/master_thesis/CoRE-COF-Database/CoRE-COF-DT187-v1.0/COF-16A.cif',\n",
       " '/home/kevin/Documents/uni/EPFL/master_thesis/CoRE-COF-Database/CoRE-COF-DT187-v1.0/COF-14A.cif',\n",
       " '/home/kevin/Documents/uni/EPFL/master_thesis/CoRE-COF-Database/CoRE-COF-DT187-v1.0/COF-BTA-PDA.cif',\n",
       " '/home/kevin/Documents/uni/EPFL/master_thesis/CoRE-COF-Database/CoRE-COF-DT187-v1.0/Por-COF-jmca.cif',\n",
       " '/home/kevin/Documents/uni/EPFL/master_thesis/CoRE-COF-Database/CoRE-COF-DT187-v1.0/ZnP-COF.cif',\n",
       " '/home/kevin/Documents/uni/EPFL/master_thesis/CoRE-COF-Database/CoRE-COF-DT187-v1.0/TFP-COF.cif',\n",
       " '/home/kevin/Documents/uni/EPFL/master_thesis/CoRE-COF-Database/CoRE-COF-DT187-v1.0/DhaTab-25.cif',\n",
       " '/home/kevin/Documents/uni/EPFL/master_thesis/CoRE-COF-Database/CoRE-COF-DT187-v1.0/COF-JLU2.cif',\n",
       " '/home/kevin/Documents/uni/EPFL/master_thesis/CoRE-COF-Database/CoRE-COF-DT187-v1.0/ATFG-COF.cif',\n",
       " '/home/kevin/Documents/uni/EPFL/master_thesis/CoRE-COF-Database/CoRE-COF-DT187-v1.0/TpBD-NHCOCH3.cif',\n",
       " '/home/kevin/Documents/uni/EPFL/master_thesis/CoRE-COF-Database/CoRE-COF-DT187-v1.0/2D-NiPc-BTDA-COF.cif',\n",
       " '/home/kevin/Documents/uni/EPFL/master_thesis/CoRE-COF-Database/CoRE-COF-DT187-v1.0/ZnPc-Py.cif',\n",
       " '/home/kevin/Documents/uni/EPFL/master_thesis/CoRE-COF-Database/CoRE-COF-DT187-v1.0/DhaTab.cif',\n",
       " '/home/kevin/Documents/uni/EPFL/master_thesis/CoRE-COF-Database/CoRE-COF-DT187-v1.0/TpBD-2NO2.cif',\n",
       " '/home/kevin/Documents/uni/EPFL/master_thesis/CoRE-COF-Database/CoRE-COF-DT187-v1.0/Tp-Stb.cif',\n",
       " '/home/kevin/Documents/uni/EPFL/master_thesis/CoRE-COF-Database/CoRE-COF-DT187-v1.0/DhaTta-23.cif',\n",
       " '/home/kevin/Documents/uni/EPFL/master_thesis/CoRE-COF-Database/CoRE-COF-DT187-v1.0/TfpBDH.cif',\n",
       " '/home/kevin/Documents/uni/EPFL/master_thesis/CoRE-COF-Database/CoRE-COF-DT187-v1.0/TpBD.cif',\n",
       " '/home/kevin/Documents/uni/EPFL/master_thesis/CoRE-COF-Database/CoRE-COF-DT187-v1.0/COF-42-bnn.cif',\n",
       " '/home/kevin/Documents/uni/EPFL/master_thesis/CoRE-COF-Database/CoRE-COF-DT187-v1.0/Py-22-BPYPH_COF.cif',\n",
       " '/home/kevin/Documents/uni/EPFL/master_thesis/CoRE-COF-Database/CoRE-COF-DT187-v1.0/TThPP.cif',\n",
       " '/home/kevin/Documents/uni/EPFL/master_thesis/CoRE-COF-Database/CoRE-COF-DT187-v1.0/PI-COF-5-2P.cif',\n",
       " '/home/kevin/Documents/uni/EPFL/master_thesis/CoRE-COF-Database/CoRE-COF-DT187-v1.0/ZnPc-DPB.cif',\n",
       " '/home/kevin/Documents/uni/EPFL/master_thesis/CoRE-COF-Database/CoRE-COF-DT187-v1.0/PI-COF-4-0P.cif',\n",
       " '/home/kevin/Documents/uni/EPFL/master_thesis/CoRE-COF-Database/CoRE-COF-DT187-v1.0/COF-LZU8.cif',\n",
       " '/home/kevin/Documents/uni/EPFL/master_thesis/CoRE-COF-Database/CoRE-COF-DT187-v1.0/CPF-1.cif',\n",
       " '/home/kevin/Documents/uni/EPFL/master_thesis/CoRE-COF-Database/CoRE-COF-DT187-v1.0/PCTF-4.cif',\n",
       " '/home/kevin/Documents/uni/EPFL/master_thesis/CoRE-COF-Database/CoRE-COF-DT187-v1.0/iPrTAPB-TFP.cif',\n",
       " '/home/kevin/Documents/uni/EPFL/master_thesis/CoRE-COF-Database/CoRE-COF-DT187-v1.0/COF-LZU1.cif',\n",
       " '/home/kevin/Documents/uni/EPFL/master_thesis/CoRE-COF-Database/CoRE-COF-DT187-v1.0/3D-Py-COF-0P.cif',\n",
       " '/home/kevin/Documents/uni/EPFL/master_thesis/CoRE-COF-Database/CoRE-COF-DT187-v1.0/TAPB-PDA_COF.cif',\n",
       " '/home/kevin/Documents/uni/EPFL/master_thesis/CoRE-COF-Database/CoRE-COF-DT187-v1.0/TP-COF.cif',\n",
       " '/home/kevin/Documents/uni/EPFL/master_thesis/CoRE-COF-Database/CoRE-COF-DT187-v1.0/TFPT-COF.cif',\n",
       " '/home/kevin/Documents/uni/EPFL/master_thesis/CoRE-COF-Database/CoRE-COF-DT187-v1.0/EB-COF-I.cif',\n",
       " '/home/kevin/Documents/uni/EPFL/master_thesis/CoRE-COF-Database/CoRE-COF-DT187-v1.0/AzO-COF.cif',\n",
       " '/home/kevin/Documents/uni/EPFL/master_thesis/CoRE-COF-Database/CoRE-COF-DT187-v1.0/ACOF-1.cif',\n",
       " '/home/kevin/Documents/uni/EPFL/master_thesis/CoRE-COF-Database/CoRE-COF-DT187-v1.0/CoPc-PorDBA.cif',\n",
       " '/home/kevin/Documents/uni/EPFL/master_thesis/CoRE-COF-Database/CoRE-COF-DT187-v1.0/DhaTph-23.cif',\n",
       " '/home/kevin/Documents/uni/EPFL/master_thesis/CoRE-COF-Database/CoRE-COF-DT187-v1.0/TpPa-F4.cif',\n",
       " '/home/kevin/Documents/uni/EPFL/master_thesis/CoRE-COF-Database/CoRE-COF-DT187-v1.0/DA-COF.cif',\n",
       " '/home/kevin/Documents/uni/EPFL/master_thesis/CoRE-COF-Database/CoRE-COF-DT187-v1.0/COF-10.cif',\n",
       " '/home/kevin/Documents/uni/EPFL/master_thesis/CoRE-COF-Database/CoRE-COF-DT187-v1.0/ICOF-1.cif',\n",
       " '/home/kevin/Documents/uni/EPFL/master_thesis/CoRE-COF-Database/CoRE-COF-DT187-v1.0/TpTG-Cl.cif',\n",
       " '/home/kevin/Documents/uni/EPFL/master_thesis/CoRE-COF-Database/CoRE-COF-DT187-v1.0/COF-JLU3.cif',\n",
       " '/home/kevin/Documents/uni/EPFL/master_thesis/CoRE-COF-Database/CoRE-COF-DT187-v1.0/TPT-COF-1.cif',\n",
       " '/home/kevin/Documents/uni/EPFL/master_thesis/CoRE-COF-Database/CoRE-COF-DT187-v1.0/CuP-TFPh.cif',\n",
       " '/home/kevin/Documents/uni/EPFL/master_thesis/CoRE-COF-Database/CoRE-COF-DT187-v1.0/CC-TAPH-COF.cif',\n",
       " '/home/kevin/Documents/uni/EPFL/master_thesis/CoRE-COF-Database/CoRE-COF-DT187-v1.0/NPN-2.cif',\n",
       " '/home/kevin/Documents/uni/EPFL/master_thesis/CoRE-COF-Database/CoRE-COF-DT187-v1.0/PI-COF-5-0P.cif',\n",
       " '/home/kevin/Documents/uni/EPFL/master_thesis/CoRE-COF-Database/CoRE-COF-DT187-v1.0/COF-105.cif',\n",
       " '/home/kevin/Documents/uni/EPFL/master_thesis/CoRE-COF-Database/CoRE-COF-DT187-v1.0/TpPa-SO3H.cif',\n",
       " '/home/kevin/Documents/uni/EPFL/master_thesis/CoRE-COF-Database/CoRE-COF-DT187-v1.0/COF-5.cif',\n",
       " '/home/kevin/Documents/uni/EPFL/master_thesis/CoRE-COF-Database/CoRE-COF-DT187-v1.0/PPy-COF.cif',\n",
       " '/home/kevin/Documents/uni/EPFL/master_thesis/CoRE-COF-Database/CoRE-COF-DT187-v1.0/COF-8.cif',\n",
       " '/home/kevin/Documents/uni/EPFL/master_thesis/CoRE-COF-Database/CoRE-COF-DT187-v1.0/COF-6.cif',\n",
       " '/home/kevin/Documents/uni/EPFL/master_thesis/CoRE-COF-Database/CoRE-COF-DT187-v1.0/CTF-1.cif',\n",
       " '/home/kevin/Documents/uni/EPFL/master_thesis/CoRE-COF-Database/CoRE-COF-DT187-v1.0/PI-3_COF.cif',\n",
       " '/home/kevin/Documents/uni/EPFL/master_thesis/CoRE-COF-Database/CoRE-COF-DT187-v1.0/DBA-COF_1.cif']"
      ]
     },
     "execution_count": 7,
     "metadata": {},
     "output_type": "execute_result"
    }
   ],
   "source": [
    "rd.structure_list"
   ]
  },
  {
   "cell_type": "markdown",
   "metadata": {},
   "source": [
    "Now, run the filtering"
   ]
  },
  {
   "cell_type": "code",
   "execution_count": 8,
   "metadata": {
    "scrolled": true
   },
   "outputs": [
    {
     "data": {
      "application/vnd.jupyter.widget-view+json": {
       "model_id": "6d1313c977c44d78a42dfd7c3d267dd9",
       "version_major": 2,
       "version_minor": 0
      },
      "text/html": [
       "<p>Failed to display Jupyter Widget of type <code>HBox</code>.</p>\n",
       "<p>\n",
       "  If you're reading this message in the Jupyter Notebook or JupyterLab Notebook, it may mean\n",
       "  that the widgets JavaScript is still loading. If this message persists, it\n",
       "  likely means that the widgets JavaScript library is either not installed or\n",
       "  not enabled. See the <a href=\"https://ipywidgets.readthedocs.io/en/stable/user_install.html\">Jupyter\n",
       "  Widgets Documentation</a> for setup instructions.\n",
       "</p>\n",
       "<p>\n",
       "  If you're reading this message in another frontend (for example, a static\n",
       "  rendering on GitHub or <a href=\"https://nbviewer.jupyter.org/\">NBViewer</a>),\n",
       "  it may mean that your frontend doesn't currently support widgets.\n",
       "</p>\n"
      ],
      "text/plain": [
       "HBox(children=(IntProgress(value=0, max=187), HTML(value='')))"
      ]
     },
     "metadata": {},
     "output_type": "display_data"
    },
    {
     "name": "stderr",
     "output_type": "stream",
     "text": [
      "/home/kevin/anaconda3/lib/python3.6/site-packages/pymatgen/io/cif.py:44: UserWarning: Please install optional dependency pybtex if youwant to extract references from CIF files.\n",
      "  warnings.warn(\"Please install optional dependency pybtex if you\"\n",
      "/home/kevin/anaconda3/lib/python3.6/site-packages/pymatgen/io/cif.py:1113: UserWarning: Issues encountered while parsing CIF:\n",
      "  warnings.warn(\"Issues encountered while parsing CIF:\")\n",
      "/home/kevin/anaconda3/lib/python3.6/site-packages/pymatgen/io/cif.py:1115: UserWarning: Some fractional co-ordinates rounded to ideal values to avoid finite precision errors.\n",
      "  warnings.warn(error)\n"
     ]
    },
    {
     "name": "stdout",
     "output_type": "stream",
     "text": [
      "\n"
     ]
    },
    {
     "data": {
      "application/vnd.jupyter.widget-view+json": {
       "model_id": "ff76758dd5db474388fc25021890a354",
       "version_major": 2,
       "version_minor": 0
      },
      "text/html": [
       "<p>Failed to display Jupyter Widget of type <code>HBox</code>.</p>\n",
       "<p>\n",
       "  If you're reading this message in the Jupyter Notebook or JupyterLab Notebook, it may mean\n",
       "  that the widgets JavaScript is still loading. If this message persists, it\n",
       "  likely means that the widgets JavaScript library is either not installed or\n",
       "  not enabled. See the <a href=\"https://ipywidgets.readthedocs.io/en/stable/user_install.html\">Jupyter\n",
       "  Widgets Documentation</a> for setup instructions.\n",
       "</p>\n",
       "<p>\n",
       "  If you're reading this message in another frontend (for example, a static\n",
       "  rendering on GitHub or <a href=\"https://nbviewer.jupyter.org/\">NBViewer</a>),\n",
       "  it may mean that your frontend doesn't currently support widgets.\n",
       "</p>\n"
      ],
      "text/plain": [
       "HBox(children=(IntProgress(value=0, max=187), HTML(value='')))"
      ]
     },
     "metadata": {},
     "output_type": "display_data"
    },
    {
     "name": "stdout",
     "output_type": "stream",
     "text": [
      "\n"
     ]
    },
    {
     "data": {
      "application/vnd.jupyter.widget-view+json": {
       "model_id": "af50e56f15d34f9b96bbecb99c7b7152",
       "version_major": 2,
       "version_minor": 0
      },
      "text/html": [
       "<p>Failed to display Jupyter Widget of type <code>HBox</code>.</p>\n",
       "<p>\n",
       "  If you're reading this message in the Jupyter Notebook or JupyterLab Notebook, it may mean\n",
       "  that the widgets JavaScript is still loading. If this message persists, it\n",
       "  likely means that the widgets JavaScript library is either not installed or\n",
       "  not enabled. See the <a href=\"https://ipywidgets.readthedocs.io/en/stable/user_install.html\">Jupyter\n",
       "  Widgets Documentation</a> for setup instructions.\n",
       "</p>\n",
       "<p>\n",
       "  If you're reading this message in another frontend (for example, a static\n",
       "  rendering on GitHub or <a href=\"https://nbviewer.jupyter.org/\">NBViewer</a>),\n",
       "  it may mean that your frontend doesn't currently support widgets.\n",
       "</p>\n"
      ],
      "text/plain": [
       "HBox(children=(IntProgress(value=0, max=219), HTML(value='')))"
      ]
     },
     "metadata": {},
     "output_type": "display_data"
    },
    {
     "name": "stdout",
     "output_type": "stream",
     "text": [
      "\n"
     ]
    }
   ],
   "source": [
    "rd.run_filtering()"
   ]
  },
  {
   "cell_type": "code",
   "execution_count": 9,
   "metadata": {},
   "outputs": [
    {
     "data": {
      "text/plain": [
       "[(41, 186),\n",
       " (8, 110),\n",
       " (43, 48),\n",
       " (107, 164),\n",
       " (8, 44),\n",
       " (94, 142),\n",
       " (12, 186),\n",
       " (47, 94),\n",
       " (88, 134),\n",
       " (48, 86),\n",
       " (12, 31),\n",
       " (94, 95),\n",
       " (52, 134),\n",
       " (148, 166),\n",
       " (59, 98),\n",
       " (15, 112),\n",
       " (15, 47),\n",
       " (36, 171),\n",
       " (43, 179),\n",
       " (86, 181),\n",
       " (119, 184),\n",
       " (104, 130),\n",
       " (73, 180),\n",
       " (64, 180),\n",
       " (136, 183),\n",
       " (20, 180),\n",
       " (39, 120),\n",
       " (58, 63),\n",
       " (123, 132),\n",
       " (57, 180),\n",
       " (24, 76),\n",
       " (26, 135),\n",
       " (137, 164),\n",
       " (47, 78),\n",
       " (27, 182),\n",
       " (23, 95),\n",
       " (41, 52),\n",
       " (141, 163),\n",
       " (44, 185),\n",
       " (23, 142),\n",
       " (51, 153),\n",
       " (26, 141),\n",
       " (183, 184),\n",
       " (55, 144),\n",
       " (16, 159),\n",
       " (35, 141),\n",
       " (20, 130),\n",
       " (135, 141),\n",
       " (86, 179),\n",
       " (35, 147),\n",
       " (78, 142),\n",
       " (26, 147),\n",
       " (67, 106),\n",
       " (64, 120),\n",
       " (63, 175),\n",
       " (43, 86),\n",
       " (36, 108),\n",
       " (108, 171),\n",
       " (6, 145),\n",
       " (48, 179),\n",
       " (34, 91),\n",
       " (95, 156),\n",
       " (23, 112),\n",
       " (1, 153),\n",
       " (15, 23),\n",
       " (73, 130),\n",
       " (21, 129),\n",
       " (12, 134),\n",
       " (88, 186),\n",
       " (22, 72),\n",
       " (63, 162),\n",
       " (90, 100),\n",
       " (10, 119),\n",
       " (35, 135),\n",
       " (120, 130),\n",
       " (64, 104),\n",
       " (12, 41),\n",
       " (64, 130),\n",
       " (134, 186),\n",
       " (179, 181),\n",
       " (142, 156),\n",
       " (12, 52),\n",
       " (37, 63),\n",
       " (136, 184),\n",
       " (92, 169),\n",
       " (15, 95),\n",
       " (93, 106),\n",
       " (39, 57),\n",
       " (23, 47),\n",
       " (84, 166),\n",
       " (96, 159),\n",
       " (141, 147),\n",
       " (147, 163),\n",
       " (15, 142),\n",
       " (146, 149),\n",
       " (16, 45),\n",
       " (8, 185),\n",
       " (58, 175),\n",
       " (23, 94),\n",
       " (16, 169),\n",
       " (23, 156),\n",
       " (150, 177),\n",
       " (21, 105),\n",
       " (20, 73),\n",
       " (67, 93),\n",
       " (13, 126),\n",
       " (45, 169),\n",
       " (47, 142),\n",
       " (64, 73),\n",
       " (41, 134),\n",
       " (96, 169),\n",
       " (112, 142),\n",
       " (131, 157),\n",
       " (92, 159),\n",
       " (78, 94),\n",
       " (8, 85),\n",
       " (26, 163),\n",
       " (103, 167),\n",
       " (27, 103),\n",
       " (57, 64),\n",
       " (37, 175),\n",
       " (31, 88),\n",
       " (57, 130),\n",
       " (167, 182),\n",
       " (45, 159),\n",
       " (99, 174),\n",
       " (104, 120),\n",
       " (32, 111),\n",
       " (119, 183),\n",
       " (89, 103),\n",
       " (71, 83),\n",
       " (135, 147),\n",
       " (1, 51),\n",
       " (37, 162),\n",
       " (56, 106),\n",
       " (39, 130),\n",
       " (45, 96),\n",
       " (98, 100),\n",
       " (85, 185),\n",
       " (39, 64),\n",
       " (78, 112),\n",
       " (52, 88),\n",
       " (3, 161),\n",
       " (19, 68),\n",
       " (95, 112),\n",
       " (16, 92),\n",
       " (59, 100),\n",
       " (43, 181),\n",
       " (31, 52),\n",
       " (92, 96),\n",
       " (47, 112),\n",
       " (57, 73),\n",
       " (120, 180),\n",
       " (39, 180),\n",
       " (135, 163),\n",
       " (59, 90),\n",
       " (105, 129),\n",
       " (15, 94),\n",
       " (57, 120),\n",
       " (165, 172),\n",
       " (47, 95),\n",
       " (31, 186),\n",
       " (14, 173),\n",
       " (12, 88),\n",
       " (15, 156),\n",
       " (10, 184),\n",
       " (20, 64),\n",
       " (89, 167),\n",
       " (94, 156),\n",
       " (10, 183),\n",
       " (50, 87),\n",
       " (31, 134),\n",
       " (44, 110),\n",
       " (26, 35),\n",
       " (47, 156),\n",
       " (15, 78),\n",
       " (41, 88),\n",
       " (57, 104),\n",
       " (44, 85),\n",
       " (10, 136),\n",
       " (52, 186),\n",
       " (77, 118),\n",
       " (20, 57),\n",
       " (46, 176),\n",
       " (78, 95),\n",
       " (73, 104),\n",
       " (95, 142),\n",
       " (107, 137),\n",
       " (130, 180),\n",
       " (102, 158),\n",
       " (20, 39),\n",
       " (45, 92),\n",
       " (25, 174),\n",
       " (94, 112),\n",
       " (101, 160),\n",
       " (39, 73),\n",
       " (20, 120),\n",
       " (84, 148),\n",
       " (58, 162),\n",
       " (27, 167),\n",
       " (37, 58),\n",
       " (48, 181),\n",
       " (73, 120),\n",
       " (103, 182),\n",
       " (89, 182),\n",
       " (127, 170),\n",
       " (35, 163),\n",
       " (31, 41),\n",
       " (159, 169),\n",
       " (27, 89),\n",
       " (119, 136),\n",
       " (90, 98),\n",
       " (104, 180),\n",
       " (112, 156),\n",
       " (16, 96),\n",
       " (20, 104),\n",
       " (140, 151),\n",
       " (25, 99),\n",
       " (39, 104)]"
      ]
     },
     "execution_count": 9,
     "metadata": {},
     "output_type": "execute_result"
    }
   ],
   "source": [
    "rd.similar_composition_tuples"
   ]
  },
  {
   "cell_type": "code",
   "execution_count": 10,
   "metadata": {},
   "outputs": [
    {
     "data": {
      "text/plain": [
       "[('AB-COF.cif', 'ACOF-1.cif'),\n",
       " ('Py-COF.cif', '3D-Py-COF-0P.cif'),\n",
       " ('NUS-2.cif', 'COF-JLU2.cif')]"
      ]
     },
     "execution_count": 10,
     "metadata": {},
     "output_type": "execute_result"
    }
   ],
   "source": [
    "rd.duplicates"
   ]
  },
  {
   "cell_type": "code",
   "execution_count": 11,
   "metadata": {},
   "outputs": [
    {
     "data": {
      "text/plain": [
       "3"
      ]
     },
     "execution_count": 11,
     "metadata": {},
     "output_type": "execute_result"
    }
   ],
   "source": [
    "rd.number_of_duplicates"
   ]
  },
  {
   "cell_type": "code",
   "execution_count": 12,
   "metadata": {},
   "outputs": [
    {
     "data": {
      "image/png": "[encoded data removed]",
      "text/plain": [
       "<Figure size 1080x360 with 2 Axes>"
      ]
     },
     "metadata": {},
     "output_type": "display_data"
    },
    {
     "data": {
      "image/png": "[encoded data removed]",
      "text/plain": [
       "<Figure size 1080x360 with 2 Axes>"
      ]
     },
     "metadata": {},
     "output_type": "display_data"
    },
    {
     "data": {
      "image/png": "[encoded data removed]",
      "text/plain": [
       "<Figure size 1080x360 with 2 Axes>"
      ]
     },
     "metadata": {},
     "output_type": "display_data"
    }
   ],
   "source": [
    "%matplotlib inline\n",
    "rd.inspect_duplicates()"
   ]
  },
  {
   "cell_type": "code",
   "execution_count": 14,
   "metadata": {},
   "outputs": [
    {
     "name": "stderr",
     "output_type": "stream",
     "text": [
      "/home/kevin/anaconda3/lib/python3.6/site-packages/pymatgen/io/cif.py:1113: UserWarning: Issues encountered while parsing CIF:\n",
      "  warnings.warn(\"Issues encountered while parsing CIF:\")\n",
      "/home/kevin/anaconda3/lib/python3.6/site-packages/pymatgen/io/cif.py:1115: UserWarning: Some fractional co-ordinates rounded to ideal values to avoid finite precision errors.\n",
      "  warnings.warn(error)\n"
     ]
    },
    {
     "ename": "KeyboardInterrupt",
     "evalue": "",
     "output_type": "error",
     "traceback": [
      "\u001b[0;31m---------------------------------------------------------------------------\u001b[0m",
      "\u001b[0;31mKeyboardInterrupt\u001b[0m                         Traceback (most recent call last)",
      "\u001b[0;32m<ipython-input-14-186bf39c451d>\u001b[0m in \u001b[0;36m<module>\u001b[0;34m()\u001b[0m\n\u001b[0;32m----> 1\u001b[0;31m \u001b[0mrd\u001b[0m\u001b[0;34m.\u001b[0m\u001b[0mget_graph_hash_dict\u001b[0m\u001b[0;34m(\u001b[0m\u001b[0mrd\u001b[0m\u001b[0;34m.\u001b[0m\u001b[0mstructure_list\u001b[0m\u001b[0;34m)\u001b[0m\u001b[0;34m\u001b[0m\u001b[0;34m\u001b[0m\u001b[0m\n\u001b[0m",
      "\u001b[0;32m/home/kevin/Documents/open_source/structure_comp/structure_comp/remove_duplicates.py\u001b[0m in \u001b[0;36mget_graph_hash_dict\u001b[0;34m(structure_list)\u001b[0m\n\u001b[1;32m    342\u001b[0m         \u001b[0mhash\u001b[0m \u001b[0;34m=\u001b[0m \u001b[0mget_hash\u001b[0m\u001b[0;34m(\u001b[0m\u001b[0mcrystal\u001b[0m\u001b[0;34m)\u001b[0m\u001b[0;34m\u001b[0m\u001b[0;34m\u001b[0m\u001b[0m\n\u001b[1;32m    343\u001b[0m         \u001b[0mself\u001b[0m\u001b[0;34m.\u001b[0m\u001b[0mhash_dict\u001b[0m\u001b[0;34m[\u001b[0m\u001b[0mhash\u001b[0m\u001b[0;34m]\u001b[0m\u001b[0;34m.\u001b[0m\u001b[0mappend\u001b[0m\u001b[0;34m(\u001b[0m\u001b[0mname\u001b[0m\u001b[0;34m)\u001b[0m\u001b[0;34m\u001b[0m\u001b[0;34m\u001b[0m\u001b[0m\n\u001b[0;32m--> 344\u001b[0;31m \u001b[0;34m\u001b[0m\u001b[0m\n\u001b[0m\u001b[1;32m    345\u001b[0m \u001b[0;34m\u001b[0m\u001b[0m\n\u001b[1;32m    346\u001b[0m     \u001b[0;32mdef\u001b[0m \u001b[0mget_graph_hash_dicts\u001b[0m\u001b[0;34m(\u001b[0m\u001b[0mself\u001b[0m\u001b[0;34m)\u001b[0m\u001b[0;34m:\u001b[0m\u001b[0;34m\u001b[0m\u001b[0;34m\u001b[0m\u001b[0m\n",
      "\u001b[0;32m/home/kevin/Documents/open_source/structure_comp/structure_comp/utils.py\u001b[0m in \u001b[0;36mget_hash\u001b[0;34m(structure)\u001b[0m\n\u001b[1;32m    107\u001b[0m     \u001b[0mcrystal\u001b[0m \u001b[0;34m=\u001b[0m \u001b[0mstructure\u001b[0m\u001b[0;34m.\u001b[0m\u001b[0mget_reduced_structure\u001b[0m\u001b[0;34m(\u001b[0m\u001b[0;34m)\u001b[0m\u001b[0;34m\u001b[0m\u001b[0;34m\u001b[0m\u001b[0m\n\u001b[1;32m    108\u001b[0m     \u001b[0mnn_strategy\u001b[0m \u001b[0;34m=\u001b[0m \u001b[0mJmolNN\u001b[0m\u001b[0;34m(\u001b[0m\u001b[0;34m)\u001b[0m\u001b[0;34m\u001b[0m\u001b[0;34m\u001b[0m\u001b[0m\n\u001b[0;32m--> 109\u001b[0;31m     \u001b[0msgraph_a\u001b[0m \u001b[0;34m=\u001b[0m \u001b[0mStructureGraph\u001b[0m\u001b[0;34m.\u001b[0m\u001b[0mwith_local_env_strategy\u001b[0m\u001b[0;34m(\u001b[0m\u001b[0mcrystal\u001b[0m\u001b[0;34m,\u001b[0m \u001b[0mnn_strategy\u001b[0m\u001b[0;34m)\u001b[0m\u001b[0;34m\u001b[0m\u001b[0;34m\u001b[0m\u001b[0m\n\u001b[0m\u001b[1;32m    110\u001b[0m     \u001b[0mgraph_hash\u001b[0m \u001b[0;34m=\u001b[0m \u001b[0mstr\u001b[0m\u001b[0;34m(\u001b[0m\u001b[0mhash\u001b[0m\u001b[0;34m(\u001b[0m\u001b[0msgraph_a\u001b[0m\u001b[0;34m.\u001b[0m\u001b[0mgraph\u001b[0m\u001b[0;34m)\u001b[0m\u001b[0;34m)\u001b[0m\u001b[0;34m\u001b[0m\u001b[0;34m\u001b[0m\u001b[0m\n\u001b[1;32m    111\u001b[0m     \u001b[0mcomp_hash\u001b[0m \u001b[0;34m=\u001b[0m \u001b[0mstr\u001b[0m\u001b[0;34m(\u001b[0m\u001b[0mhash\u001b[0m\u001b[0;34m(\u001b[0m\u001b[0mstr\u001b[0m\u001b[0;34m(\u001b[0m\u001b[0mcrystal\u001b[0m\u001b[0;34m.\u001b[0m\u001b[0mcomposition\u001b[0m\u001b[0;34m)\u001b[0m\u001b[0;34m)\u001b[0m\u001b[0;34m)\u001b[0m\u001b[0;34m\u001b[0m\u001b[0;34m\u001b[0m\u001b[0m\n",
      "\u001b[0;32m/home/kevin/anaconda3/lib/python3.6/site-packages/pymatgen/analysis/graphs.py\u001b[0m in \u001b[0;36mwith_local_env_strategy\u001b[0;34m(structure, strategy)\u001b[0m\n\u001b[1;32m    209\u001b[0m                                              edge_weight_units=\"\")\n\u001b[1;32m    210\u001b[0m \u001b[0;34m\u001b[0m\u001b[0m\n\u001b[0;32m--> 211\u001b[0;31m         \u001b[0;32mfor\u001b[0m \u001b[0mn\u001b[0m\u001b[0;34m,\u001b[0m \u001b[0mneighbors\u001b[0m \u001b[0;32min\u001b[0m \u001b[0menumerate\u001b[0m\u001b[0;34m(\u001b[0m\u001b[0mstrategy\u001b[0m\u001b[0;34m.\u001b[0m\u001b[0mget_all_nn_info\u001b[0m\u001b[0;34m(\u001b[0m\u001b[0mstructure\u001b[0m\u001b[0;34m)\u001b[0m\u001b[0;34m)\u001b[0m\u001b[0;34m:\u001b[0m\u001b[0;34m\u001b[0m\u001b[0;34m\u001b[0m\u001b[0m\n\u001b[0m\u001b[1;32m    212\u001b[0m             \u001b[0;32mfor\u001b[0m \u001b[0mneighbor\u001b[0m \u001b[0;32min\u001b[0m \u001b[0mneighbors\u001b[0m\u001b[0;34m:\u001b[0m\u001b[0;34m\u001b[0m\u001b[0;34m\u001b[0m\u001b[0m\n\u001b[1;32m    213\u001b[0m \u001b[0;34m\u001b[0m\u001b[0m\n",
      "\u001b[0;32m/home/kevin/anaconda3/lib/python3.6/site-packages/pymatgen/analysis/local_env.py\u001b[0m in \u001b[0;36mget_all_nn_info\u001b[0;34m(self, structure)\u001b[0m\n\u001b[1;32m    366\u001b[0m         \"\"\"\n\u001b[1;32m    367\u001b[0m \u001b[0;34m\u001b[0m\u001b[0m\n\u001b[0;32m--> 368\u001b[0;31m         \u001b[0;32mreturn\u001b[0m \u001b[0;34m[\u001b[0m\u001b[0mself\u001b[0m\u001b[0;34m.\u001b[0m\u001b[0mget_nn_info\u001b[0m\u001b[0;34m(\u001b[0m\u001b[0mstructure\u001b[0m\u001b[0;34m,\u001b[0m \u001b[0mn\u001b[0m\u001b[0;34m)\u001b[0m \u001b[0;32mfor\u001b[0m \u001b[0mn\u001b[0m \u001b[0;32min\u001b[0m \u001b[0mrange\u001b[0m\u001b[0;34m(\u001b[0m\u001b[0mlen\u001b[0m\u001b[0;34m(\u001b[0m\u001b[0mstructure\u001b[0m\u001b[0;34m)\u001b[0m\u001b[0;34m)\u001b[0m\u001b[0;34m]\u001b[0m\u001b[0;34m\u001b[0m\u001b[0;34m\u001b[0m\u001b[0m\n\u001b[0m\u001b[1;32m    369\u001b[0m \u001b[0;34m\u001b[0m\u001b[0m\n\u001b[1;32m    370\u001b[0m     \u001b[0;32mdef\u001b[0m \u001b[0mget_nn_shell_info\u001b[0m\u001b[0;34m(\u001b[0m\u001b[0mself\u001b[0m\u001b[0;34m,\u001b[0m \u001b[0mstructure\u001b[0m\u001b[0;34m,\u001b[0m \u001b[0msite_idx\u001b[0m\u001b[0;34m,\u001b[0m \u001b[0mshell\u001b[0m\u001b[0;34m)\u001b[0m\u001b[0;34m:\u001b[0m\u001b[0;34m\u001b[0m\u001b[0;34m\u001b[0m\u001b[0m\n",
      "\u001b[0;32m/home/kevin/anaconda3/lib/python3.6/site-packages/pymatgen/analysis/local_env.py\u001b[0m in \u001b[0;36m<listcomp>\u001b[0;34m(.0)\u001b[0m\n\u001b[1;32m    366\u001b[0m         \"\"\"\n\u001b[1;32m    367\u001b[0m \u001b[0;34m\u001b[0m\u001b[0m\n\u001b[0;32m--> 368\u001b[0;31m         \u001b[0;32mreturn\u001b[0m \u001b[0;34m[\u001b[0m\u001b[0mself\u001b[0m\u001b[0;34m.\u001b[0m\u001b[0mget_nn_info\u001b[0m\u001b[0;34m(\u001b[0m\u001b[0mstructure\u001b[0m\u001b[0;34m,\u001b[0m \u001b[0mn\u001b[0m\u001b[0;34m)\u001b[0m \u001b[0;32mfor\u001b[0m \u001b[0mn\u001b[0m \u001b[0;32min\u001b[0m \u001b[0mrange\u001b[0m\u001b[0;34m(\u001b[0m\u001b[0mlen\u001b[0m\u001b[0;34m(\u001b[0m\u001b[0mstructure\u001b[0m\u001b[0;34m)\u001b[0m\u001b[0;34m)\u001b[0m\u001b[0;34m]\u001b[0m\u001b[0;34m\u001b[0m\u001b[0;34m\u001b[0m\u001b[0m\n\u001b[0m\u001b[1;32m    369\u001b[0m \u001b[0;34m\u001b[0m\u001b[0m\n\u001b[1;32m    370\u001b[0m     \u001b[0;32mdef\u001b[0m \u001b[0mget_nn_shell_info\u001b[0m\u001b[0;34m(\u001b[0m\u001b[0mself\u001b[0m\u001b[0;34m,\u001b[0m \u001b[0mstructure\u001b[0m\u001b[0;34m,\u001b[0m \u001b[0msite_idx\u001b[0m\u001b[0;34m,\u001b[0m \u001b[0mshell\u001b[0m\u001b[0;34m)\u001b[0m\u001b[0;34m:\u001b[0m\u001b[0;34m\u001b[0m\u001b[0;34m\u001b[0m\u001b[0m\n",
      "\u001b[0;32m/home/kevin/anaconda3/lib/python3.6/site-packages/pymatgen/analysis/local_env.py\u001b[0m in \u001b[0;36mget_nn_info\u001b[0;34m(self, structure, n)\u001b[0m\n\u001b[1;32m   1074\u001b[0m \u001b[0;34m\u001b[0m\u001b[0m\n\u001b[1;32m   1075\u001b[0m         \u001b[0msiw\u001b[0m \u001b[0;34m=\u001b[0m \u001b[0;34m[\u001b[0m\u001b[0;34m]\u001b[0m\u001b[0;34m\u001b[0m\u001b[0;34m\u001b[0m\u001b[0m\n\u001b[0;32m-> 1076\u001b[0;31m         \u001b[0;32mfor\u001b[0m \u001b[0mneighb\u001b[0m\u001b[0;34m,\u001b[0m \u001b[0mdist\u001b[0m \u001b[0;32min\u001b[0m \u001b[0mstructure\u001b[0m\u001b[0;34m.\u001b[0m\u001b[0mget_neighbors\u001b[0m\u001b[0;34m(\u001b[0m\u001b[0msite\u001b[0m\u001b[0;34m,\u001b[0m \u001b[0mmax_rad\u001b[0m\u001b[0;34m)\u001b[0m\u001b[0;34m:\u001b[0m\u001b[0;34m\u001b[0m\u001b[0;34m\u001b[0m\u001b[0m\n\u001b[0m\u001b[1;32m   1077\u001b[0m             \u001b[0;31m# Confirm neighbor based on bond length specific to atom pair\u001b[0m\u001b[0;34m\u001b[0m\u001b[0;34m\u001b[0m\u001b[0;34m\u001b[0m\u001b[0m\n\u001b[1;32m   1078\u001b[0m             \u001b[0;32mif\u001b[0m \u001b[0mdist\u001b[0m \u001b[0;34m<=\u001b[0m \u001b[0;34m(\u001b[0m\u001b[0mbonds\u001b[0m\u001b[0;34m[\u001b[0m\u001b[0;34m(\u001b[0m\u001b[0msite\u001b[0m\u001b[0;34m.\u001b[0m\u001b[0mspecie\u001b[0m\u001b[0;34m,\u001b[0m \u001b[0mneighb\u001b[0m\u001b[0;34m.\u001b[0m\u001b[0mspecie\u001b[0m\u001b[0;34m)\u001b[0m\u001b[0;34m]\u001b[0m\u001b[0;34m)\u001b[0m \u001b[0;32mand\u001b[0m \u001b[0;34m(\u001b[0m\u001b[0mdist\u001b[0m \u001b[0;34m>\u001b[0m \u001b[0mself\u001b[0m\u001b[0;34m.\u001b[0m\u001b[0mmin_bond_distance\u001b[0m\u001b[0;34m)\u001b[0m\u001b[0;34m:\u001b[0m\u001b[0;34m\u001b[0m\u001b[0;34m\u001b[0m\u001b[0m\n",
      "\u001b[0;32m/home/kevin/anaconda3/lib/python3.6/site-packages/pymatgen/core/structure.py\u001b[0m in \u001b[0;36mget_neighbors\u001b[0;34m(self, site, r, include_index, include_image)\u001b[0m\n\u001b[1;32m    904\u001b[0m         nn = self.get_sites_in_sphere(site.coords, r,\n\u001b[1;32m    905\u001b[0m                                       \u001b[0minclude_index\u001b[0m\u001b[0;34m=\u001b[0m\u001b[0minclude_index\u001b[0m\u001b[0;34m,\u001b[0m\u001b[0;34m\u001b[0m\u001b[0;34m\u001b[0m\u001b[0m\n\u001b[0;32m--> 906\u001b[0;31m                                       include_image=include_image)\n\u001b[0m\u001b[1;32m    907\u001b[0m         \u001b[0;32mreturn\u001b[0m \u001b[0;34m[\u001b[0m\u001b[0md\u001b[0m \u001b[0;32mfor\u001b[0m \u001b[0md\u001b[0m \u001b[0;32min\u001b[0m \u001b[0mnn\u001b[0m \u001b[0;32mif\u001b[0m \u001b[0msite\u001b[0m \u001b[0;34m!=\u001b[0m \u001b[0md\u001b[0m\u001b[0;34m[\u001b[0m\u001b[0;36m0\u001b[0m\u001b[0;34m]\u001b[0m\u001b[0;34m]\u001b[0m\u001b[0;34m\u001b[0m\u001b[0;34m\u001b[0m\u001b[0m\n\u001b[1;32m    908\u001b[0m \u001b[0;34m\u001b[0m\u001b[0m\n",
      "\u001b[0;32m/home/kevin/anaconda3/lib/python3.6/site-packages/pymatgen/core/structure.py\u001b[0m in \u001b[0;36mget_sites_in_sphere\u001b[0;34m(self, pt, r, include_index, include_image)\u001b[0m\n\u001b[1;32m    872\u001b[0m             nnsite = PeriodicSite(self[i].species_and_occu,\n\u001b[1;32m    873\u001b[0m                                   \u001b[0mfcoord\u001b[0m\u001b[0;34m,\u001b[0m \u001b[0mself\u001b[0m\u001b[0;34m.\u001b[0m\u001b[0m_lattice\u001b[0m\u001b[0;34m,\u001b[0m\u001b[0;34m\u001b[0m\u001b[0;34m\u001b[0m\u001b[0m\n\u001b[0;32m--> 874\u001b[0;31m                                   properties=self[i].properties)\n\u001b[0m\u001b[1;32m    875\u001b[0m \u001b[0;34m\u001b[0m\u001b[0m\n\u001b[1;32m    876\u001b[0m             \u001b[0;31m# Get the neighbor data\u001b[0m\u001b[0;34m\u001b[0m\u001b[0;34m\u001b[0m\u001b[0;34m\u001b[0m\u001b[0m\n",
      "\u001b[0;32m/home/kevin/anaconda3/lib/python3.6/site-packages/pymatgen/core/sites.py\u001b[0m in \u001b[0;36mproperties\u001b[0;34m(self)\u001b[0m\n\u001b[1;32m     80\u001b[0m         \u001b[0mself\u001b[0m\u001b[0;34m.\u001b[0m\u001b[0m_properties\u001b[0m \u001b[0;34m=\u001b[0m \u001b[0mproperties\u001b[0m \u001b[0;32mif\u001b[0m \u001b[0mproperties\u001b[0m \u001b[0;32melse\u001b[0m \u001b[0;34m{\u001b[0m\u001b[0;34m}\u001b[0m\u001b[0;34m\u001b[0m\u001b[0;34m\u001b[0m\u001b[0m\n\u001b[1;32m     81\u001b[0m \u001b[0;34m\u001b[0m\u001b[0m\n\u001b[0;32m---> 82\u001b[0;31m     \u001b[0;34m@\u001b[0m\u001b[0mproperty\u001b[0m\u001b[0;34m\u001b[0m\u001b[0;34m\u001b[0m\u001b[0m\n\u001b[0m\u001b[1;32m     83\u001b[0m     \u001b[0;32mdef\u001b[0m \u001b[0mproperties\u001b[0m\u001b[0;34m(\u001b[0m\u001b[0mself\u001b[0m\u001b[0;34m)\u001b[0m\u001b[0;34m:\u001b[0m\u001b[0;34m\u001b[0m\u001b[0;34m\u001b[0m\u001b[0m\n\u001b[1;32m     84\u001b[0m         \"\"\"\n",
      "\u001b[0;31mKeyboardInterrupt\u001b[0m: "
     ]
    }
   ],
   "source": [
    "rd.get_graph_hash_dict(rd.structure_list)"
   ]
  },
  {
   "cell_type": "code",
   "execution_count": null,
   "metadata": {},
   "outputs": [],
   "source": []
  }
 ],
 "metadata": {
  "kernelspec": {
   "display_name": "Python 3",
   "language": "python",
   "name": "python3"
  },
  "language_info": {
   "codemirror_mode": {
    "name": "ipython",
    "version": 3
   },
   "file_extension": ".py",
   "mimetype": "text/x-python",
   "name": "python",
   "nbconvert_exporter": "python",
   "pygments_lexer": "ipython3",
   "version": "3.6.8"
  }
 },
 "nbformat": 4,
 "nbformat_minor": 2
}
