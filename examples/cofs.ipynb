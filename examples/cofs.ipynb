{
 "cells": [
  {
   "cell_type": "code",
   "execution_count": 1,
   "metadata": {},
   "outputs": [],
   "source": [
    "%config Application.log_level=\"DEBUG\""
   ]
  },
  {
   "cell_type": "code",
   "execution_count": 2,
   "metadata": {},
   "outputs": [
    {
     "name": "stderr",
     "output_type": "stream",
     "text": [
      "/Users/kevinmaikjablonka/Dropbox (LSMO)/Documents/open_source/structure_comp/structure_comp/checker.py:16: TqdmExperimentalWarning: Using `tqdm.autonotebook.tqdm` in notebook mode. Use `tqdm.tqdm` instead to force console mode (e.g. in jupyter console)\n",
      "  from tqdm.autonotebook import tqdm\n"
     ]
    }
   ],
   "source": [
    "from structure_comp.remove_duplicates import RemoveDuplicates"
   ]
  },
  {
   "cell_type": "code",
   "execution_count": 3,
   "metadata": {},
   "outputs": [
    {
     "name": "stderr",
     "output_type": "stream",
     "text": [
      "INFO:root:getting structure list\n"
     ]
    }
   ],
   "source": [
    "rd = RemoveDuplicates.from_folder(\n",
    "    '/Users/kevinmaikjablonka/Downloads/cof_duplicates/', try_supercell=False)"
   ]
  },
  {
   "cell_type": "code",
   "execution_count": 4,
   "metadata": {},
   "outputs": [
    {
     "name": "stderr",
     "output_type": "stream",
     "text": [
      "INFO:RemoveDuplicates:running filtering workflow\n",
      "INFO:RemoveDuplicates:creating reduced structures\n"
     ]
    },
    {
     "data": {
      "application/vnd.jupyter.widget-view+json": {
       "model_id": "f934b91cb94a4fef9fc7c5769873e35c",
       "version_major": 2,
       "version_minor": 0
      },
      "text/plain": [
       "HBox(children=(FloatProgress(value=0.0, max=8.0), HTML(value='')))"
      ]
     },
     "metadata": {},
     "output_type": "display_data"
    },
    {
     "name": "stderr",
     "output_type": "stream",
     "text": [
      "DEBUG:RemoveDuplicates:reduced structure for 16083N2 created\n",
      "DEBUG:RemoveDuplicates:reduced structure for 16081N2 created\n",
      "DEBUG:RemoveDuplicates:reduced structure for 16080N2 created\n",
      "DEBUG:RemoveDuplicates:reduced structure for 16082N2 created\n",
      "DEBUG:RemoveDuplicates:reduced structure for 16523N2 created\n",
      "DEBUG:RemoveDuplicates:reduced structure for 16521N3 created\n",
      "DEBUG:RemoveDuplicates:reduced structure for 16520N2 created\n",
      "DEBUG:RemoveDuplicates:reduced structure for 16522N2 created\n",
      "INFO:root:getting structure list\n",
      "DEBUG:RemoveDuplicates:we have 8 reduced structures\n",
      "INFO:RemoveDuplicates:creating scalar features\n"
     ]
    },
    {
     "name": "stdout",
     "output_type": "stream",
     "text": [
      "\n"
     ]
    },
    {
     "data": {
      "application/vnd.jupyter.widget-view+json": {
       "model_id": "dda4b38d7c9144e5a01a559bc4247330",
       "version_major": 2,
       "version_minor": 0
      },
      "text/plain": [
       "HBox(children=(FloatProgress(value=0.0, max=8.0), HTML(value='')))"
      ]
     },
     "metadata": {},
     "output_type": "display_data"
    },
    {
     "name": "stderr",
     "output_type": "stream",
     "text": [
      "DEBUG:RemoveDuplicates:the dataframe looks like                                                 name    volume   density\n",
      "0  /var/folders/_0/7bjj2kkj1t7c22rrx8hwjpzm0000gn... -0.200671  0.211640\n",
      "1  /var/folders/_0/7bjj2kkj1t7c22rrx8hwjpzm0000gn... -1.246423  1.394133\n",
      "2  /var/folders/_0/7bjj2kkj1t7c22rrx8hwjpzm0000gn... -0.100807  0.104140\n",
      "3  /var/folders/_0/7bjj2kkj1t7c22rrx8hwjpzm0000gn...  1.547901 -1.548664\n",
      "4  /var/folders/_0/7bjj2kkj1t7c22rrx8hwjpzm0000gn... -0.200671  0.211640\n",
      "DEBUG:RemoveDuplicates:columns of dataframe are Index(['name', 'volume', 'density'], dtype='object')\n",
      "DEBUG:RemoveDuplicates:found [(3, 7), (2, 6), (0, 4)] composition duplicates\n",
      "INFO:RemoveDuplicates:constructing and comparing structure graphs\n"
     ]
    },
    {
     "name": "stdout",
     "output_type": "stream",
     "text": [
      "\n",
      "[(3, 7), (2, 6), (0, 4)]\n"
     ]
    },
    {
     "data": {
      "application/vnd.jupyter.widget-view+json": {
       "model_id": "0aa22686e93544f9804a494e06c76f29",
       "version_major": 2,
       "version_minor": 0
      },
      "text/plain": [
       "HBox(children=(FloatProgress(value=0.0, max=3.0), HTML(value='')))"
      ]
     },
     "metadata": {},
     "output_type": "display_data"
    },
    {
     "name": "stderr",
     "output_type": "stream",
     "text": [
      "DEBUG:RemoveDuplicates:Found duplicate\n",
      "DEBUG:RemoveDuplicates:Found duplicate\n",
      "DEBUG:RemoveDuplicates:(3, 7)\n",
      "DEBUG:RemoveDuplicates:Found duplicate\n",
      "DEBUG:RemoveDuplicates:(2, 6)\n",
      "DEBUG:RemoveDuplicates:(0, 4)\n",
      "DEBUG:RemoveDuplicates:now i am cleaning up\n"
     ]
    },
    {
     "name": "stdout",
     "output_type": "stream",
     "text": [
      "\n"
     ]
    },
    {
     "data": {
      "text/plain": [
       "<contextlib._GeneratorContextManager at 0x7fb65e74c6d0>"
      ]
     },
     "execution_count": 4,
     "metadata": {},
     "output_type": "execute_result"
    }
   ],
   "source": [
    "rd.run_filtering()"
   ]
  },
  {
   "cell_type": "code",
   "execution_count": 5,
   "metadata": {},
   "outputs": [
    {
     "data": {
      "text/plain": [
       "[('16082N2.cif', '16522N2.cif'),\n",
       " ('16080N2.cif', '16520N2.cif'),\n",
       " ('16083N2.cif', '16523N2.cif')]"
      ]
     },
     "execution_count": 5,
     "metadata": {},
     "output_type": "execute_result"
    }
   ],
   "source": [
    "rd.duplicates"
   ]
  },
  {
   "cell_type": "code",
   "execution_count": 6,
   "metadata": {},
   "outputs": [
    {
     "data": {
      "text/plain": [
       "[(3, 7), (2, 6), (0, 4)]"
      ]
     },
     "execution_count": 6,
     "metadata": {},
     "output_type": "execute_result"
    }
   ],
   "source": [
    "rd.similar_composition_tuples"
   ]
  },
  {
   "cell_type": "code",
   "execution_count": 12,
   "metadata": {},
   "outputs": [
    {
     "data": {
      "text/html": [
       "<div>\n",
       "<style scoped>\n",
       "    .dataframe tbody tr th:only-of-type {\n",
       "        vertical-align: middle;\n",
       "    }\n",
       "\n",
       "    .dataframe tbody tr th {\n",
       "        vertical-align: top;\n",
       "    }\n",
       "\n",
       "    .dataframe thead th {\n",
       "        text-align: right;\n",
       "    }\n",
       "</style>\n",
       "<table border=\"1\" class=\"dataframe\">\n",
       "  <thead>\n",
       "    <tr style=\"text-align: right;\">\n",
       "      <th></th>\n",
       "      <th>name</th>\n",
       "      <th>volume</th>\n",
       "      <th>density</th>\n",
       "    </tr>\n",
       "  </thead>\n",
       "  <tbody>\n",
       "    <tr>\n",
       "      <th>0</th>\n",
       "      <td>/var/folders/_0/7bjj2kkj1t7c22rrx8hwjpzm0000gn...</td>\n",
       "      <td>-0.200671</td>\n",
       "      <td>0.211640</td>\n",
       "    </tr>\n",
       "    <tr>\n",
       "      <th>1</th>\n",
       "      <td>/var/folders/_0/7bjj2kkj1t7c22rrx8hwjpzm0000gn...</td>\n",
       "      <td>-1.246423</td>\n",
       "      <td>1.394133</td>\n",
       "    </tr>\n",
       "    <tr>\n",
       "      <th>2</th>\n",
       "      <td>/var/folders/_0/7bjj2kkj1t7c22rrx8hwjpzm0000gn...</td>\n",
       "      <td>-0.100807</td>\n",
       "      <td>0.104140</td>\n",
       "    </tr>\n",
       "    <tr>\n",
       "      <th>3</th>\n",
       "      <td>/var/folders/_0/7bjj2kkj1t7c22rrx8hwjpzm0000gn...</td>\n",
       "      <td>1.547901</td>\n",
       "      <td>-1.548664</td>\n",
       "    </tr>\n",
       "    <tr>\n",
       "      <th>4</th>\n",
       "      <td>/var/folders/_0/7bjj2kkj1t7c22rrx8hwjpzm0000gn...</td>\n",
       "      <td>-0.200671</td>\n",
       "      <td>0.211640</td>\n",
       "    </tr>\n",
       "    <tr>\n",
       "      <th>5</th>\n",
       "      <td>/var/folders/_0/7bjj2kkj1t7c22rrx8hwjpzm0000gn...</td>\n",
       "      <td>-1.246423</td>\n",
       "      <td>1.071635</td>\n",
       "    </tr>\n",
       "    <tr>\n",
       "      <th>6</th>\n",
       "      <td>/var/folders/_0/7bjj2kkj1t7c22rrx8hwjpzm0000gn...</td>\n",
       "      <td>-0.100807</td>\n",
       "      <td>0.104140</td>\n",
       "    </tr>\n",
       "    <tr>\n",
       "      <th>7</th>\n",
       "      <td>/var/folders/_0/7bjj2kkj1t7c22rrx8hwjpzm0000gn...</td>\n",
       "      <td>1.547901</td>\n",
       "      <td>-1.548664</td>\n",
       "    </tr>\n",
       "  </tbody>\n",
       "</table>\n",
       "</div>"
      ],
      "text/plain": [
       "                                                name    volume   density\n",
       "0  /var/folders/_0/7bjj2kkj1t7c22rrx8hwjpzm0000gn... -0.200671  0.211640\n",
       "1  /var/folders/_0/7bjj2kkj1t7c22rrx8hwjpzm0000gn... -1.246423  1.394133\n",
       "2  /var/folders/_0/7bjj2kkj1t7c22rrx8hwjpzm0000gn... -0.100807  0.104140\n",
       "3  /var/folders/_0/7bjj2kkj1t7c22rrx8hwjpzm0000gn...  1.547901 -1.548664\n",
       "4  /var/folders/_0/7bjj2kkj1t7c22rrx8hwjpzm0000gn... -0.200671  0.211640\n",
       "5  /var/folders/_0/7bjj2kkj1t7c22rrx8hwjpzm0000gn... -1.246423  1.071635\n",
       "6  /var/folders/_0/7bjj2kkj1t7c22rrx8hwjpzm0000gn... -0.100807  0.104140\n",
       "7  /var/folders/_0/7bjj2kkj1t7c22rrx8hwjpzm0000gn...  1.547901 -1.548664"
      ]
     },
     "execution_count": 12,
     "metadata": {},
     "output_type": "execute_result"
    }
   ],
   "source": [
    "rd.scalar_feature_matrix"
   ]
  },
  {
   "cell_type": "code",
   "execution_count": 7,
   "metadata": {},
   "outputs": [],
   "source": [
    "from glob import glob"
   ]
  },
  {
   "cell_type": "code",
   "execution_count": 8,
   "metadata": {},
   "outputs": [],
   "source": [
    "from pymatgen import Structure"
   ]
  },
  {
   "cell_type": "code",
   "execution_count": 9,
   "metadata": {},
   "outputs": [],
   "source": [
    "duplicated = glob('/Users/kevinmaikjablonka/Downloads/cof_duplicates/*.cif')"
   ]
  },
  {
   "cell_type": "code",
   "execution_count": 27,
   "metadata": {},
   "outputs": [],
   "source": [
    "structures = []\n",
    "hashes = []\n",
    "volumes = []\n",
    "for structure in duplicated:\n",
    "    s = Structure.from_file(structure)\n",
    "    structures.append(s)\n",
    "    h = s.unsafe_hash()\n",
    "    hashes.append(h.digest())\n",
    "    volumes.append(s.volume)"
   ]
  },
  {
   "cell_type": "code",
   "execution_count": 12,
   "metadata": {},
   "outputs": [],
   "source": [
    "s =structures[0]"
   ]
  },
  {
   "cell_type": "code",
   "execution_count": 19,
   "metadata": {},
   "outputs": [],
   "source": [
    "h = s.unsafe_hash()"
   ]
  },
  {
   "cell_type": "code",
   "execution_count": 28,
   "metadata": {},
   "outputs": [
    {
     "data": {
      "text/plain": [
       "{13344.717762, 13899.9672, 13952.779308, 14827.06134}"
      ]
     },
     "execution_count": 28,
     "metadata": {},
     "output_type": "execute_result"
    }
   ],
   "source": [
    "set(volumes)"
   ]
  },
  {
   "cell_type": "code",
   "execution_count": 37,
   "metadata": {},
   "outputs": [],
   "source": [
    "from pymatgen.analysis.local_env import JmolNN\n",
    "from pymatgen.analysis.graphs import StructureGraph"
   ]
  },
  {
   "cell_type": "code",
   "execution_count": 30,
   "metadata": {},
   "outputs": [
    {
     "data": {
      "text/plain": [
       "['/Users/kevinmaikjablonka/Downloads/cof_duplicates/16083N2.cif',\n",
       " '/Users/kevinmaikjablonka/Downloads/cof_duplicates/16081N2.cif',\n",
       " '/Users/kevinmaikjablonka/Downloads/cof_duplicates/16080N2.cif',\n",
       " '/Users/kevinmaikjablonka/Downloads/cof_duplicates/16082N2.cif',\n",
       " '/Users/kevinmaikjablonka/Downloads/cof_duplicates/16523N2.cif',\n",
       " '/Users/kevinmaikjablonka/Downloads/cof_duplicates/16521N3.cif',\n",
       " '/Users/kevinmaikjablonka/Downloads/cof_duplicates/16520N2.cif',\n",
       " '/Users/kevinmaikjablonka/Downloads/cof_duplicates/16522N2.cif']"
      ]
     },
     "execution_count": 30,
     "metadata": {},
     "output_type": "execute_result"
    }
   ],
   "source": [
    "duplicated"
   ]
  },
  {
   "cell_type": "code",
   "execution_count": 33,
   "metadata": {},
   "outputs": [],
   "source": [
    "s0 = Structure.from_file('/Users/kevinmaikjablonka/Downloads/cof_duplicates/16080N2.cif')"
   ]
  },
  {
   "cell_type": "code",
   "execution_count": 34,
   "metadata": {},
   "outputs": [],
   "source": [
    "s1 = Structure.from_file('/Users/kevinmaikjablonka/Downloads/cof_duplicates/16520N2.cif')"
   ]
  },
  {
   "cell_type": "code",
   "execution_count": 36,
   "metadata": {},
   "outputs": [],
   "source": [
    "jmol = JmolNN()"
   ]
  },
  {
   "cell_type": "code",
   "execution_count": 38,
   "metadata": {},
   "outputs": [],
   "source": [
    "sg0 = StructureGraph.with_local_env_strategy(s0, jmol)"
   ]
  },
  {
   "cell_type": "code",
   "execution_count": 39,
   "metadata": {},
   "outputs": [],
   "source": [
    "sg1 = StructureGraph.with_local_env_strategy(s1, jmol)"
   ]
  },
  {
   "cell_type": "code",
   "execution_count": 40,
   "metadata": {},
   "outputs": [
    {
     "data": {
      "text/plain": [
       "True"
      ]
     },
     "execution_count": 40,
     "metadata": {},
     "output_type": "execute_result"
    }
   ],
   "source": [
    "sg0 == sg1"
   ]
  },
  {
   "cell_type": "code",
   "execution_count": 41,
   "metadata": {},
   "outputs": [
    {
     "data": {
      "text/plain": [
       "0.5128150977735105"
      ]
     },
     "execution_count": 41,
     "metadata": {},
     "output_type": "execute_result"
    }
   ],
   "source": [
    "s0.density"
   ]
  },
  {
   "cell_type": "code",
   "execution_count": 42,
   "metadata": {},
   "outputs": [
    {
     "data": {
      "text/plain": [
       "0.5128150977735105"
      ]
     },
     "execution_count": 42,
     "metadata": {},
     "output_type": "execute_result"
    }
   ],
   "source": [
    "s1.density"
   ]
  },
  {
   "cell_type": "code",
   "execution_count": null,
   "metadata": {},
   "outputs": [],
   "source": []
  }
 ],
 "metadata": {
  "kernelspec": {
   "display_name": "Python 3",
   "language": "python",
   "name": "python3"
  },
  "language_info": {
   "codemirror_mode": {
    "name": "ipython",
    "version": 3
   },
   "file_extension": ".py",
   "mimetype": "text/x-python",
   "name": "python",
   "nbconvert_exporter": "python",
   "pygments_lexer": "ipython3",
   "version": "3.7.6"
  }
 },
 "nbformat": 4,
 "nbformat_minor": 4
}
